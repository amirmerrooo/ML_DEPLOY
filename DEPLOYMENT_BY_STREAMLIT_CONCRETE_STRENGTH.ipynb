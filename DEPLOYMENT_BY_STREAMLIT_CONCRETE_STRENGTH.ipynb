{
  "cells": [
    {
      "cell_type": "markdown",
      "metadata": {
        "id": "CCtoZu4BLuu-"
      },
      "source": [
        "#DEPLOYMENT"
      ]
    },
    {
      "cell_type": "markdown",
      "metadata": {
        "id": "uT9YEOJSFGYR"
      },
      "source": [
        "##CREAT_LOAD_PKL_FILE"
      ]
    },
    {
      "cell_type": "code",
      "execution_count": 128,
      "metadata": {
        "id": "TesZXhZIBl_Z",
        "colab": {
          "base_uri": "https://localhost:8080/"
        },
        "outputId": "126bcd57-918f-449a-f89b-11ba0ab4813b"
      },
      "outputs": [
        {
          "output_type": "stream",
          "name": "stdout",
          "text": [
            "Requirement already satisfied: streamlit in /usr/local/lib/python3.10/dist-packages (1.29.0)\n",
            "Requirement already satisfied: altair<6,>=4.0 in /usr/local/lib/python3.10/dist-packages (from streamlit) (4.2.2)\n",
            "Requirement already satisfied: blinker<2,>=1.0.0 in /usr/lib/python3/dist-packages (from streamlit) (1.4)\n",
            "Requirement already satisfied: cachetools<6,>=4.0 in /usr/local/lib/python3.10/dist-packages (from streamlit) (5.3.2)\n",
            "Requirement already satisfied: click<9,>=7.0 in /usr/local/lib/python3.10/dist-packages (from streamlit) (8.1.7)\n",
            "Requirement already satisfied: importlib-metadata<7,>=1.4 in /usr/local/lib/python3.10/dist-packages (from streamlit) (6.11.0)\n",
            "Requirement already satisfied: numpy<2,>=1.19.3 in /usr/local/lib/python3.10/dist-packages (from streamlit) (1.23.5)\n",
            "Requirement already satisfied: packaging<24,>=16.8 in /usr/local/lib/python3.10/dist-packages (from streamlit) (23.2)\n",
            "Requirement already satisfied: pandas<3,>=1.3.0 in /usr/local/lib/python3.10/dist-packages (from streamlit) (1.5.3)\n",
            "Requirement already satisfied: pillow<11,>=7.1.0 in /usr/local/lib/python3.10/dist-packages (from streamlit) (9.4.0)\n",
            "Requirement already satisfied: protobuf<5,>=3.20 in /usr/local/lib/python3.10/dist-packages (from streamlit) (3.20.3)\n",
            "Requirement already satisfied: pyarrow>=6.0 in /usr/local/lib/python3.10/dist-packages (from streamlit) (10.0.1)\n",
            "Requirement already satisfied: python-dateutil<3,>=2.7.3 in /usr/local/lib/python3.10/dist-packages (from streamlit) (2.8.2)\n",
            "Requirement already satisfied: requests<3,>=2.27 in /usr/local/lib/python3.10/dist-packages (from streamlit) (2.31.0)\n",
            "Requirement already satisfied: rich<14,>=10.14.0 in /usr/local/lib/python3.10/dist-packages (from streamlit) (13.7.0)\n",
            "Requirement already satisfied: tenacity<9,>=8.1.0 in /usr/local/lib/python3.10/dist-packages (from streamlit) (8.2.3)\n",
            "Requirement already satisfied: toml<2,>=0.10.1 in /usr/local/lib/python3.10/dist-packages (from streamlit) (0.10.2)\n",
            "Requirement already satisfied: typing-extensions<5,>=4.3.0 in /usr/local/lib/python3.10/dist-packages (from streamlit) (4.5.0)\n",
            "Requirement already satisfied: tzlocal<6,>=1.1 in /usr/local/lib/python3.10/dist-packages (from streamlit) (5.2)\n",
            "Requirement already satisfied: validators<1,>=0.2 in /usr/local/lib/python3.10/dist-packages (from streamlit) (0.22.0)\n",
            "Requirement already satisfied: gitpython!=3.1.19,<4,>=3.0.7 in /usr/local/lib/python3.10/dist-packages (from streamlit) (3.1.40)\n",
            "Requirement already satisfied: pydeck<1,>=0.8.0b4 in /usr/local/lib/python3.10/dist-packages (from streamlit) (0.8.1b0)\n",
            "Requirement already satisfied: tornado<7,>=6.0.3 in /usr/local/lib/python3.10/dist-packages (from streamlit) (6.3.2)\n",
            "Requirement already satisfied: watchdog>=2.1.5 in /usr/local/lib/python3.10/dist-packages (from streamlit) (3.0.0)\n",
            "Requirement already satisfied: entrypoints in /usr/local/lib/python3.10/dist-packages (from altair<6,>=4.0->streamlit) (0.4)\n",
            "Requirement already satisfied: jinja2 in /usr/local/lib/python3.10/dist-packages (from altair<6,>=4.0->streamlit) (3.1.2)\n",
            "Requirement already satisfied: jsonschema>=3.0 in /usr/local/lib/python3.10/dist-packages (from altair<6,>=4.0->streamlit) (4.19.2)\n",
            "Requirement already satisfied: toolz in /usr/local/lib/python3.10/dist-packages (from altair<6,>=4.0->streamlit) (0.12.0)\n",
            "Requirement already satisfied: gitdb<5,>=4.0.1 in /usr/local/lib/python3.10/dist-packages (from gitpython!=3.1.19,<4,>=3.0.7->streamlit) (4.0.11)\n",
            "Requirement already satisfied: zipp>=0.5 in /usr/local/lib/python3.10/dist-packages (from importlib-metadata<7,>=1.4->streamlit) (3.17.0)\n",
            "Requirement already satisfied: pytz>=2020.1 in /usr/local/lib/python3.10/dist-packages (from pandas<3,>=1.3.0->streamlit) (2023.3.post1)\n",
            "Requirement already satisfied: six>=1.5 in /usr/local/lib/python3.10/dist-packages (from python-dateutil<3,>=2.7.3->streamlit) (1.16.0)\n",
            "Requirement already satisfied: charset-normalizer<4,>=2 in /usr/local/lib/python3.10/dist-packages (from requests<3,>=2.27->streamlit) (3.3.2)\n",
            "Requirement already satisfied: idna<4,>=2.5 in /usr/local/lib/python3.10/dist-packages (from requests<3,>=2.27->streamlit) (3.6)\n",
            "Requirement already satisfied: urllib3<3,>=1.21.1 in /usr/local/lib/python3.10/dist-packages (from requests<3,>=2.27->streamlit) (2.0.7)\n",
            "Requirement already satisfied: certifi>=2017.4.17 in /usr/local/lib/python3.10/dist-packages (from requests<3,>=2.27->streamlit) (2023.11.17)\n",
            "Requirement already satisfied: markdown-it-py>=2.2.0 in /usr/local/lib/python3.10/dist-packages (from rich<14,>=10.14.0->streamlit) (3.0.0)\n",
            "Requirement already satisfied: pygments<3.0.0,>=2.13.0 in /usr/local/lib/python3.10/dist-packages (from rich<14,>=10.14.0->streamlit) (2.16.1)\n",
            "Requirement already satisfied: smmap<6,>=3.0.1 in /usr/local/lib/python3.10/dist-packages (from gitdb<5,>=4.0.1->gitpython!=3.1.19,<4,>=3.0.7->streamlit) (5.0.1)\n",
            "Requirement already satisfied: MarkupSafe>=2.0 in /usr/local/lib/python3.10/dist-packages (from jinja2->altair<6,>=4.0->streamlit) (2.1.3)\n",
            "Requirement already satisfied: attrs>=22.2.0 in /usr/local/lib/python3.10/dist-packages (from jsonschema>=3.0->altair<6,>=4.0->streamlit) (23.1.0)\n",
            "Requirement already satisfied: jsonschema-specifications>=2023.03.6 in /usr/local/lib/python3.10/dist-packages (from jsonschema>=3.0->altair<6,>=4.0->streamlit) (2023.11.2)\n",
            "Requirement already satisfied: referencing>=0.28.4 in /usr/local/lib/python3.10/dist-packages (from jsonschema>=3.0->altair<6,>=4.0->streamlit) (0.32.0)\n",
            "Requirement already satisfied: rpds-py>=0.7.1 in /usr/local/lib/python3.10/dist-packages (from jsonschema>=3.0->altair<6,>=4.0->streamlit) (0.15.2)\n",
            "Requirement already satisfied: mdurl~=0.1 in /usr/local/lib/python3.10/dist-packages (from markdown-it-py>=2.2.0->rich<14,>=10.14.0->streamlit) (0.1.2)\n"
          ]
        }
      ],
      "source": [
        "!pip install streamlit\n",
        "from xgboost import XGBRegressor\n",
        "from sklearn.model_selection import GridSearchCV\n",
        "from sklearn.model_selection import train_test_split\n",
        "import pickle\n",
        "import numpy as np\n",
        "import pandas as pd\n",
        "from sklearn.model_selection import GridSearchCV\n",
        "from sklearn.model_selection import cross_val_score,TimeSeriesSplit\n",
        "\n",
        "\n",
        "url = 'https://raw.githubusercontent.com/merrooo/ML_DATA/main/concrete_data.csv'\n",
        "df=pd.read_csv(url)\n",
        "x=df.loc[:,df.columns != 'Strength']\n",
        "y=df['Strength']\n",
        "XGB_REG_mode=XGBRegressor()\n",
        "x_train,x_test,y_train,y_test=train_test_split(x,y,test_size=.3 ,random_state=42)\n",
        "TSCV = TimeSeriesSplit(n_splits=3)\n",
        "score=cross_val_score(XGB_REG_mode,x_train,y_train,cv=TSCV) # kfold\n",
        "params={\n",
        "      'nthread':[4], #when use hyperthread, xgboost may become slower\n",
        "              'objective':['reg:linear'],\n",
        "              'learning_rate': [.03, 0.05, .07], #so called `eta` value\n",
        "              'max_depth': [5, 6, 7],\n",
        "              'min_child_weight': [4],\n",
        "              'silent': [1],\n",
        "              'subsample': [0.7],\n",
        "              'colsample_bytree': [0.7],\n",
        "              'n_estimators': [500]}\n",
        "\n",
        "grid_search=GridSearchCV(\n",
        "estimator=XGB_REG_mode,\n",
        "param_grid=params,\n",
        "scoring='neg_mean_squared_error',\n",
        "    cv=TSCV)\n",
        "\n",
        "\n",
        "data={'model':XGB_REG_mode}\n",
        "with open('amir.pkl','wb') as file:\n",
        "  pickle.dump(data,file)\n",
        "\n",
        "\n",
        "with open('amir.pkl','rb') as file:\n",
        " data=pickle.load(file)\n",
        " grid_search=data['model']"
      ]
    },
    {
      "cell_type": "markdown",
      "metadata": {
        "id": "z-dqyrDr9CHg"
      },
      "source": [
        "##VISUALIZATION"
      ]
    },
    {
      "cell_type": "code",
      "execution_count": 129,
      "metadata": {
        "colab": {
          "base_uri": "https://localhost:8080/"
        },
        "id": "rVVbbkx78KpS",
        "outputId": "8b2599d9-5e79-426c-c482-fde90b9f90c6"
      },
      "outputs": [
        {
          "output_type": "stream",
          "name": "stdout",
          "text": [
            "Overwriting VISUALIZATION_PAGE.py\n"
          ]
        }
      ],
      "source": [
        "%%writefile VISUALIZATION_PAGE.py\n",
        "import streamlit as st\n",
        "import pickle\n",
        "import pandas as pd\n",
        "import numpy as np\n",
        "import matplotlib.pyplot as plt\n",
        "import plotly.figure_factory as ff\n",
        "from sklearn.model_selection import train_test_split\n",
        "import plotly.express as px\n",
        "import seaborn as sns\n",
        "\n",
        "\n",
        "def SHOW_VISU_PAGE():\n",
        "    url = 'https://raw.githubusercontent.com/merrooo/ML_DATA/main/concrete_data.csv'\n",
        "    df=pd.read_csv(url)\n",
        "    x=df.loc[:,df.columns != 'Strength']\n",
        "    y=df['Strength']\n",
        "   #------------------------------------------------------------------\n",
        "    st.title(\"\"\"### VISUALIZATION \"\"\")\n",
        "   #------------------------------------------------------------------\n",
        "    st.write(\"DISTRIBUTION_PLOTTING FOR DATA_FRAME\")\n",
        "    button_VISU_1=st.button(\"DATA_FRAME\",type=\"primary\")\n",
        "    if button_VISU_1:\n",
        "     fig, ax = plt.subplots()\n",
        "     ax.hist(df, bins=20)\n",
        "     st.pyplot(fig)\n",
        "   #------------------------------------------------------------------\n",
        "    st.write(\"AREA_CHART_DEPENDENT FEATURES (CEMENT_AGE_SUPERPLASTICIZER) AFFECTING ON STRENGTH\")\n",
        "    button_VISU_2=st.button(\"AREA_CHART(CEMENT_AGE_SUPERPLASTICIZER)\",type=\"primary\")\n",
        "    if button_VISU_2:\n",
        "     st.area_chart(\n",
        "     df, x=\"Strength\", y=[\"Cement\", \"Superplasticizer\",\"Age\"], color=[\"#f0e936\", \"#4633f2\",\"#0e6210\"]) # Optional\n",
        "   #------------------------------------------------------------------\n",
        "    st.write(\"DISTRIBUTION_PLOTTING THE DEPENDENT FEATURES (CEMENT_AGE_SUPERPLASTICIZER) AFFECTING ON STRENGTH\")\n",
        "    button_VISU_3=st.button(\"DIST_(CEMENT_AGE_SUPERPLASTICIZER)\",type=\"primary\")\n",
        "    if button_VISU_3:\n",
        "      x1 = np.random.randn(200) - 2\n",
        "      x2 = np.random.randn(200)\n",
        "      x3 = np.random.randn(200) + 2\n",
        "      hist_data = [x1, x2, x3]\n",
        "      group_labels = ['Cement', 'Age', 'Superplasticizer']\n",
        "      fig = ff.create_distplot(\n",
        "        hist_data, group_labels, bin_size=[.1, .25, .5])\n",
        "      st.plotly_chart(fig, use_container_width=True)\n",
        "   #------------------------------------------------------------------\n",
        "    st.write(\"DISTRIBUTION_PLOTTING CEMENT REGARDING TO STRENGTH \")\n",
        "    button_VISU_4=st.button(\"DIST_FEATURE_(Strength_MPa)\",type=\"primary\")\n",
        "    if button_VISU_4:\n",
        "      x1 = np.random.randn(1000) - 2\n",
        "      x2 = np.random.randn(1000)\n",
        "      x3 = np.random.randn(1000) + 2\n",
        "      hist_data = [x3]\n",
        "      group_labels = ['Strength']\n",
        "      fig = ff.create_distplot(\n",
        "          hist_data, group_labels, bin_size=[.1, .25, .5])\n",
        "      st.plotly_chart(fig, use_container_width=True)\n",
        "   #------------------------------------------------------------------\n",
        "    st.write(\"DISTRIBUTION_PLOTTING CEMENT REGARDING TO STRENGTH \")\n",
        "    button_VISU_5=st.button(\"DIST_FEATURE_(Cement)\",type=\"primary\")\n",
        "    if button_VISU_5:\n",
        "     x1 = np.random.randn(1000) - 2\n",
        "     x2 = np.random.randn(1000)\n",
        "     x3 = np.random.randn(1000) + 2\n",
        "     hist_data = [x3]\n",
        "     group_labels = ['Cement']\n",
        "     fig = ff.create_distplot(\n",
        "          hist_data, group_labels, bin_size=[.1, .25, .5])\n",
        "     st.plotly_chart(fig, use_container_width=True)\n",
        "   #------------------------------------------------------------------\n",
        "    st.write(\"DISTRIBUTION_PLOTTING CEMENT REGARDING TO STRENGTH \")\n",
        "    button_VISU_6=st.button(\"DIST_FEATURE_(Age)\",type=\"primary\")\n",
        "    if button_VISU_6:\n",
        "      x1 = np.random.randn(1000) - 2\n",
        "      x2 = np.random.randn(1000)\n",
        "      x3 = np.random.randn(1000) + 2\n",
        "      hist_data = [x3]\n",
        "      group_labels = ['Age']\n",
        "      fig = ff.create_distplot(\n",
        "         hist_data, group_labels, bin_size=[.1, .25, .5])\n",
        "      st.plotly_chart(fig, use_container_width=True)\n",
        "   #------------------------------------------------------------------\n",
        "    st.write(\"DISTRIBUTION_PLOTTING CEMENT REGARDING TO STRENGTH \")\n",
        "    button_VISU_7=st.button(\"DIST_FEATURE_(Superplasticizer)\",type=\"primary\")\n",
        "    if button_VISU_7:\n",
        "      x1 = np.random.randn(1000) - 2\n",
        "      x2 = np.random.randn(1000)\n",
        "      x3 = np.random.randn(1000) + 2\n",
        "      hist_data = [x3]\n",
        "      group_labels = ['Superplasticizer']\n",
        "      fig = ff.create_distplot(\n",
        "          hist_data, group_labels, bin_size=[.1, .25, .5])\n",
        "      st.plotly_chart(fig, use_container_width=True)\n",
        "   #------------------------------------------------------------------\n",
        "    st.write(\"HEAT_MAP(DATA_FRAME)\")\n",
        "    button_VISU_8=st.button(\"HEAT_MAP(DATA_FRAME)\",type=\"primary\")\n",
        "    if button_VISU_8:\n",
        "      fig = px.imshow(df, text_auto=True, aspect=\"auto\")\n",
        "      st.plotly_chart(fig)\n",
        "   #------------------------------------------------------------------\n",
        "    st.write(\"HEAT_MAP(CEMENT_STRENGTH)\")\n",
        "    button_VISU_9=st.button(\"HEAT_MAP(CEMENT_STRENGTH)\",type=\"primary\")\n",
        "    if button_VISU_9:\n",
        "      fig = px.density_heatmap(df, x=\"Cement\", y=\"Strength\", text_auto=True, nbinsx=7, color_continuous_scale='turbid_r', width=686, height=889)\n",
        "      st.plotly_chart(fig)\n",
        "   #------------------------------------------------------------------\n",
        "    st.write(\"HEAT_MAP(AGE_STRENGTH)\")\n",
        "    button_VISU_10=st.button(\"HEAT_MAP(AGE_STRENGTH)\",type=\"primary\")\n",
        "    if button_VISU_10:\n",
        "      fig = px.density_heatmap(df, x=\"Age\", y=\"Strength\", text_auto=True, nbinsx=7, color_continuous_scale='turbid_r', width=686, height=889)\n",
        "      st.plotly_chart(fig)\n",
        "   #------------------------------------------------------------------\n",
        "    st.write(\"HEAT_MAP(Superplasticizer_STRENGTH)\")\n",
        "    button_VISU_11=st.button(\"HEAT_MAP(Superplasticizer_STRENGTH)\",type=\"primary\")\n",
        "    if button_VISU_11:\n",
        "      fig = px.density_heatmap(df, x=\"Superplasticizer\", y=\"Strength\", text_auto=True, nbinsx=7, color_continuous_scale='turbid_r', width=686, height=889)\n",
        "      st.plotly_chart(fig)\n",
        "   #------------------------------------------------------------------\n",
        "    st.write(\"HEAT_MAP(Fly Ash_STRENGTH)\")\n",
        "    button_VISU_12=st.button(\"HEAT_MAP(Fly Ash_STRENGTH)\",type=\"primary\")\n",
        "    if button_VISU_12:\n",
        "      fig = px.density_heatmap(df, x=\"Fly Ash\", y=\"Strength\", text_auto=True, nbinsx=7, color_continuous_scale='turbid_r', width=686, height=889)\n",
        "      st.plotly_chart(fig)\n",
        "   #------------------------------------------------------------------\n",
        "    st.write(\"HEAT_MAP(Superplasticizer_STRENGTH)\")\n",
        "    button_VISU_13=st.button(\"HEAT_MAP(Water_STRENGTH)\",type=\"primary\")\n",
        "    if button_VISU_13:\n",
        "      fig = px.density_heatmap(df, x=\"Water\", y=\"Strength\", text_auto=True, nbinsx=7, color_continuous_scale='turbid_r', width=686, height=889)\n",
        "      st.plotly_chart(fig)\n"
      ]
    },
    {
      "cell_type": "markdown",
      "metadata": {
        "id": "5YOYl-Os84MS"
      },
      "source": [
        "##DATA_PAGE"
      ]
    },
    {
      "cell_type": "code",
      "execution_count": 130,
      "metadata": {
        "colab": {
          "base_uri": "https://localhost:8080/"
        },
        "id": "1qd5wU1m8L2I",
        "outputId": "58238247-807b-4c50-9f87-e7acea5af290"
      },
      "outputs": [
        {
          "output_type": "stream",
          "name": "stdout",
          "text": [
            "Overwriting DATA_PAGE.py\n"
          ]
        }
      ],
      "source": [
        "%%writefile DATA_PAGE.py\n",
        "import streamlit as st\n",
        "import pickle\n",
        "import pandas as pd\n",
        "import numpy as np\n",
        "import matplotlib.pyplot as plt\n",
        "import plotly.express as px\n",
        "import seaborn as sns\n",
        "import plotly.express as px\n",
        "import matplotlib.pyplot as plt\n",
        "import plotly.figure_factory as ff\n",
        "\n",
        "def SHOW_DATA_PAGE():\n",
        "\n",
        "    url = 'https://raw.githubusercontent.com/merrooo/ML_DATA/main/concrete_data.csv'\n",
        "    df=pd.read_csv(url)\n",
        "    x=df.loc[:,df.columns != 'Strength']\n",
        "    y=df['Strength']\n",
        "    #------------------------------------------------------------------\n",
        "    st.title('EXPLORING_DATA_FRAME!!')\n",
        "    #------------------------------------------------------------------\n",
        "    EDA_=st.sidebar.selectbox(\"EXPLORING_DATA_COLUMNS\",(\"DATA_FARME_\",\"COLUMNS_\"))\n",
        "\n",
        "    if EDA_ == \"DATA_FARME_\":\n",
        "      EXPLORE_DATA_=st.toggle('EXPLORE_DATA',disabled=False)\n",
        "      CHECK_NULL_=st.toggle('CHECK_NULL',disabled=False)\n",
        "      DESCRIBE_=st.toggle('DESCRIBE',disabled=False)\n",
        "      COLUMNS_=st.toggle('COLUMNS',disabled=False)\n",
        "      DUPLICATED_=st.toggle('DUPLICATED',disabled=False)\n",
        "      MAX_=st.toggle('MAXIMUM_VALUES_FEATURES',disabled=False)\n",
        "      HEAD_=st.toggle('DATA_HEAD',disabled=False)\n",
        "      if EXPLORE_DATA_:\n",
        "        st.write('EXPLORING_DATA_FRAM_OF_CONCRETE!!')\n",
        "        st.dataframe(df)\n",
        "        st.write('DONE!!')\n",
        "      elif MAX_:\n",
        "        st.write('MAXIMUM_VALUES_FEATURES!!')\n",
        "        data_matrix = [['ITEM', 'DESCIBTION'],\n",
        "               ['Cement_KG IN M3',540.0],\n",
        "               ['Blast Furnace Slag_KG IN M3', 359.4],\n",
        "               ['Fly Ash_KG IN M3', 200.1],\n",
        "               ['Water_KG IN M3', 247.0],\n",
        "               ['Superplasticizer IN M3', 32.2],\n",
        "               ['Coarse Aggregate_KG IN M3', 1145.0],\n",
        "               ['Fine Aggregate_KG IN M3', 992.6],\n",
        "               ['Age_Day (1~365)', 365],\n",
        "               ['Strength_MPa', 82.6]]\n",
        "        fig = ff.create_table(data_matrix)\n",
        "        st.plotly_chart(fig)\n",
        "        st.write('DONE!!')\n",
        "      elif HEAD_:\n",
        "        st.write('DATA_HEAD!!')\n",
        "        st.dataframe(df.head())\n",
        "        st.write('DONE!!')\n",
        "      elif CHECK_NULL_:\n",
        "        st.write('EXPLORING_NULL!!')\n",
        "        st.dataframe(df.isnull().sum())\n",
        "        st.write('DONE!!')\n",
        "      elif DESCRIBE_:\n",
        "        st.write('DESCRIPE_OF_DATA!!')\n",
        "        st.dataframe(df.describe())\n",
        "        st.write('DONE!!')\n",
        "      elif COLUMNS_:\n",
        "        st.write('EXPLORE_HOW_MANY_FEATURES!!')\n",
        "        st.dataframe(df.columns)\n",
        "        st.write('DONE!!')\n",
        "      elif DUPLICATED_:\n",
        "        st.write('CHECK_DUPLICATED_OF_DATA!!')\n",
        "        st.dataframe(df.duplicated().sum())\n",
        "        st.write('DONE!!')\n",
        "    elif EDA_ == \"COLUMNS_\":\n",
        "      st.write('VALUE_COUNTS_FOR_OUT_PUT[STRENGTH]!!')\n",
        "      VALUE_COUNTS_=st.toggle('VALUE_COUNTS',disabled=False)\n",
        "      UNIQUE_=st.toggle('UNIQUE',disabled=False)\n",
        "      if VALUE_COUNTS_:\n",
        "        st.write('CHECK_FOR_OUTPUT_[STRENGTH]!!')\n",
        "        Strength_=st.toggle('Strength',disabled=False)\n",
        "        if Strength_:\n",
        "         st.dataframe(df['Strength'].value_counts())\n",
        "         st.write('DONE!!')\n",
        "      elif UNIQUE_:\n",
        "        st.write('CHECK_FOR_OUTPUT_[STRENGTH]!!')\n",
        "        Strength_=st.toggle('Strength',disabled=False)\n",
        "        if Strength_:\n",
        "         st.dataframe(df['Strength'].unique())\n",
        "         st.write('DONE!!')"
      ]
    },
    {
      "cell_type": "markdown",
      "metadata": {
        "id": "B8gLY0An0Cjk"
      },
      "source": [
        "##PREDICTION"
      ]
    },
    {
      "cell_type": "code",
      "execution_count": 131,
      "metadata": {
        "colab": {
          "base_uri": "https://localhost:8080/"
        },
        "id": "39bxvkYtCO4_",
        "outputId": "a5d7fa2d-7f98-4eb2-e7e1-bdda7f713617"
      },
      "outputs": [
        {
          "output_type": "stream",
          "name": "stdout",
          "text": [
            "Overwriting PREDICTION_PAGE.py\n"
          ]
        }
      ],
      "source": [
        "%%writefile PREDICTION_PAGE.py\n",
        "import streamlit as st\n",
        "import pickle\n",
        "import numpy as np\n",
        "import pandas as pd\n",
        "import time\n",
        "from sklearn.model_selection import GridSearchCV\n",
        "from sklearn.model_selection import train_test_split\n",
        "from sklearn.model_selection import cross_val_score,TimeSeriesSplit\n",
        "from sklearn.metrics import mean_absolute_error , mean_squared_error ,r2_score\n",
        "from xgboost import XGBRegressor\n",
        "import plotly.figure_factory as ff\n",
        "import matplotlib.pyplot as plt\n",
        "\n",
        "\n",
        "\n",
        "def load_model():\n",
        "  with open('amir.pkl','rb') as file:\n",
        "    data=pickle.load(file)\n",
        "  return data\n",
        "data=load_model()\n",
        "Strength_=data['model']\n",
        "\n",
        "def SHOW_PREDICTION_PAGE():\n",
        "  st.title(\"SOFTWARE_DEVELOPER_PREDICTION\")\n",
        "  st.write(\"\"\"###WE_NEED_SOME_INFORMATION_TO_PREDICT_THE STRENGTH OF CONCRETE\"\"\")\n",
        "  #------------------------------------------------------------------\n",
        "  url = 'https://raw.githubusercontent.com/merrooo/ML_DATA/main/concrete_data.csv'\n",
        "  df=pd.read_csv(url)\n",
        "\n",
        "  st.write('DATA_HEAD!!')\n",
        "  st.dataframe(df.head(10))\n",
        "\n",
        "  with st.form(\"my_form\"):\n",
        "\n",
        "    Cement_=st.number_input(\"Cement_kg in a m3\")\n",
        "    Blast_Furnace_Slag_=st.number_input(\"Blast_Furnace_Slag_kg in a m3\")\n",
        "    Fly_Ash_=st.number_input(\"Fly_Ash_kg in a m3\")\n",
        "    Water_=st.number_input(\"Water_kg in a m3\")\n",
        "    Superplasticizer_=st.number_input(\"Superplasticizer_kg in a m3\")\n",
        "    Coarse_Aggregate_=st.number_input(\"Coarse_Aggregate_kg in a m3\")\n",
        "    Fine_Aggregate_=st.number_input(\"Fine_Aggregate_kg in a m3\")\n",
        "    Age_=st.number_input(\"Age_Day (1~365)\")\n",
        "\n",
        "    submitted = st.form_submit_button(\"SUBMIT\")\n",
        "\n",
        "  ok=st.button(\"PREDICTION_STRENGTH_CONCRETE\")\n",
        "  if ok:\n",
        "\n",
        "    x=df.loc[:,df.columns != 'Strength']\n",
        "    y=df['Strength']\n",
        "\n",
        "    XGB_REG_mode=XGBRegressor()\n",
        "\n",
        "    x_train,x_test,y_train,y_test=train_test_split(x,y,test_size=.3 ,random_state=42)\n",
        "\n",
        "    TSCV = TimeSeriesSplit(n_splits=3)\n",
        "    score=cross_val_score(XGB_REG_mode,x_train,y_train,cv=TSCV) # kfold\n",
        "    params={\n",
        "      'nthread':[4], #when use hyperthread, xgboost may become slower\n",
        "              'objective':['reg:linear'],\n",
        "              'learning_rate': [.03, 0.05, .07], #so called `eta` value\n",
        "              'max_depth': [5, 6, 7],\n",
        "              'min_child_weight': [4],\n",
        "              'silent': [1],\n",
        "              'subsample': [0.7],\n",
        "              'colsample_bytree': [0.7],\n",
        "              'n_estimators': [500]}\n",
        "\n",
        "    grid_search=GridSearchCV(\n",
        "    estimator=XGB_REG_mode,\n",
        "    param_grid=params,\n",
        "    scoring='neg_mean_squared_error',\n",
        "    cv=TSCV)\n",
        "\n",
        "    Strength_=grid_search.fit(x_train,y_train)\n",
        "    Strength_=grid_search.predict(x)\n",
        "\n",
        "    progress_text = \"Operation in progress. Please wait.\"\n",
        "    my_bar = st.progress(0, text=progress_text)\n",
        "    for percent_complete in range(100):\n",
        "        time.sleep(0.01)\n",
        "        my_bar.progress(percent_complete + 1, text=progress_text)\n",
        "    time.sleep(1)\n",
        "    my_bar.empty()\n",
        "    #--------------------------------------------------------------------------\n",
        "    st.subheader(f\" THE_ESTIMATED_STRENGTH_IS :- \\n[{Strength_[1]:.2f}] MPa\")\n",
        "    st.write('------------------------------ACCURACY_TRAIN-----------------------------')\n",
        "    Strength_TRAIN=grid_search.predict(x_train)\n",
        "    SCORE_TRAIN=r2_score(y_train,Strength_TRAIN)*100\n",
        "    st.subheader(\" ACCURACY_TRAIN_FOR_MODEL_IS :- \\n[{:.2f} %]\".format(SCORE_TRAIN))\n",
        "    st.write('------------------------------ACCURACY_TEST------------------------------')\n",
        "    Strength_TEST=grid_search.predict(x_test)\n",
        "    SCORE_TEST=r2_score(y_test,Strength_TEST)*100\n",
        "    st.subheader(\" ACCURACY_TEST_FOR_MODEL_IS :- \\n[{:.2f} %]\".format(SCORE_TEST))\n",
        "    st.write('-----------------------------ACCURACCY_GRAPH----------------------------')\n",
        "    labels = 'ACCURACY_TEST', 'ACCURACY_TRAIN'\n",
        "    sizes = [93.86, 99.17]\n",
        "    explode = (0, 0.1)\n",
        "    fig1, ax1 = plt.subplots()\n",
        "    ax1.pie(sizes, explode=explode, labels=labels, autopct='%1.1f%%',\n",
        "          shadow=True, startangle=90)\n",
        "    ax1.axis('equal')\n",
        "    st.pyplot(fig1)\n",
        "    st.write('BEST_RESULT_FOR_CONCRETE_STRENGTH MPa')\n",
        "    data_matrix = [['ITEM', 'DESCIBTION'],\n",
        "               ['Cement_KG IN M3',389.9],\n",
        "               ['Blast Furnace Slag_KG IN M3', 189.0],\n",
        "               ['Fly Ash_KG IN M3', 0.0],\n",
        "               ['Water_KG IN M3', 145.9],\n",
        "               ['Superplasticizer IN M3', 22.0],\n",
        "               ['Coarse Aggregate_KG IN M3', 944.7],\n",
        "               ['Fine Aggregate_KG IN M3', 755.8],\n",
        "               ['Age_Day (1~365)', 91],\n",
        "               ['Strength_MPa', 82.6]]\n",
        "    fig = ff.create_table(data_matrix)\n",
        "    st.plotly_chart(fig)\n",
        "    #--------------------------------------------------------------------------\n",
        "    st.success('ALREADY_MODEL_PREDICTED!', icon=\"✅\")"
      ]
    },
    {
      "cell_type": "markdown",
      "metadata": {
        "id": "Izj2N7CD77f4"
      },
      "source": [
        "##APP"
      ]
    },
    {
      "cell_type": "code",
      "execution_count": 132,
      "metadata": {
        "colab": {
          "base_uri": "https://localhost:8080/"
        },
        "id": "OwBhDGCdBnxM",
        "outputId": "cbd189a3-80ed-46a3-ffd3-639fb1835ea1"
      },
      "outputs": [
        {
          "output_type": "stream",
          "name": "stdout",
          "text": [
            "Overwriting CONCRET_STRENGTH.py\n"
          ]
        }
      ],
      "source": [
        "%%writefile CONCRET_STRENGTH.py\n",
        "import streamlit as st\n",
        "from VISUALIZATION_PAGE import SHOW_VISU_PAGE\n",
        "from DATA_PAGE import SHOW_DATA_PAGE\n",
        "from PREDICTION_PAGE import SHOW_PREDICTION_PAGE\n",
        "import plotly.figure_factory as ff\n",
        "from sklearn.model_selection import GridSearchCV\n",
        "import missingno as msng\n",
        "from sklearn.model_selection import cross_val_score,TimeSeriesSplit\n",
        "from xgboost import XGBRegressor\n",
        "import warnings\n",
        "\n",
        "st.header('SOFTWARE_DEVELOPER_AI', divider='red')\n",
        "st.write(\"Concrete is the most important material in civil engineering.The concrete compressive strength is a highly nonlinear function of age andingredients. These ingredients include cement, blast furnace slag, fly ash, water, superplasticizer, coarse aggregate, and fine aggregate.So this the prediction for the strength regarding to the dependent features\")\n",
        "st.write(\"-- Input Variable --\")\n",
        "st.write(\"Cement (component 1) -- quantitative -- kg in a m3 mixture\")\n",
        "st.write(\"Blast Furnace Slag (component 2) -- quantitative -- kg in a m3 mixture\")\n",
        "st.write(\"Fly Ash (component 3) -- quantitative -- kg in a m3 mixture\")\n",
        "st.write(\"Water (component 4) -- quantitative -- kg in a m3 mixture\")\n",
        "st.write(\"Superplasticizer (component 5) -- quantitative -- kg in a m3 mixture\")\n",
        "st.write(\"Coarse Aggregate (component 6) -- quantitative -- kg in a m3 mixture\")\n",
        "st.write(\"Fine Aggregate (component 7) -- quantitative -- kg in a m3 mixture\")\n",
        "st.write(\"Age -- quantitative -- Day (1~365)\")\n",
        "st.write(\"-- Output Variable --\")\n",
        "st.write(\"Concrete compressive strength -- quantitative -- MPa\")\n",
        "st.header('_AMIR_ is :blue[cool] :sunglasses:')\n",
        "st.header(\"CONCRETE_DATA_SET\")\n",
        "st.image(\"https://media.istockphoto.com/id/692096736/photo/concrete-pouring-during-commercial-concreting-floors-of-building.jpg?s=1024x1024&w=is&k=20&c=XYYH7UhgqsMmwGBWO6UJsxaSgjxNDuQO8i7N27nwRlk=\", width=200)\n",
        "st.write('-------------------------------CONCLUSOR---------------------------------')\n",
        "data_matrix = [['ITEM', 'DESCIBTION'],\n",
        "               ['DATA_SET', 'CONCRETE_STRENGTH'],\n",
        "               ['CROSS_VALIDATION', 'TimeSeriesSplit'],\n",
        "               ['MODEL', 'XGBOOST_REGRESSION'],\n",
        "               ['SCORE_TRAIN-%', 99.17],\n",
        "               ['SCORE_TEST-%', 93.86]]\n",
        "fig = ff.create_table(data_matrix)\n",
        "st.plotly_chart(fig)\n",
        "page=st.sidebar.selectbox(\"OPTINOS_FOR_EXPLORING_DATA\",(\"EDA\",\"VISUALIZATION\",\"PREDICTION\"))\n",
        "if page == \"PREDICTION\":\n",
        "    SHOW_PREDICTION_PAGE()\n",
        "    st.balloons()\n",
        "elif page ==\"VISUALIZATION\":\n",
        "    SHOW_VISU_PAGE()\n",
        "    st.success('ALREADY_GRAPH_VISUALIZED!', icon=\"✅\")\n",
        "    st.balloons()\n",
        "elif page ==\"EDA\":\n",
        "    SHOW_DATA_PAGE()\n",
        "    st.success('ALREADY_DATA_EXPLORED!', icon=\"✅\")\n",
        "    st.balloons()\n",
        "#------------------------------------------------------------------------------------------------------------"
      ]
    },
    {
      "cell_type": "markdown",
      "metadata": {
        "id": "kHq202c0pISR"
      },
      "source": [
        "#LOCAL_HOST_STREAMLIT"
      ]
    },
    {
      "cell_type": "code",
      "execution_count": null,
      "metadata": {
        "colab": {
          "base_uri": "https://localhost:8080/"
        },
        "id": "OqOvkh-r76RK",
        "outputId": "d257fc2f-81ea-475f-dea6-46761f4c73c2"
      },
      "outputs": [
        {
          "output_type": "stream",
          "name": "stdout",
          "text": [
            "Password/Enpoint IP for localtunnel is: 34.125.199.99\n",
            "curl: try 'curl --help' or 'curl --manual' for more information\n",
            "\u001b[K\u001b[?25hnpx: installed 22 in 4.42s\n",
            "your url is: https://fresh-foxes-marry.loca.lt\n"
          ]
        }
      ],
      "source": [
        "!streamlit run CONCRET_STRENGTH.py &>/content/logs.txt &\n",
        "import urllib\n",
        "print(\"Password/Enpoint IP for localtunnel is:\",urllib.request.urlopen('https://ipv4.icanhazip.com').read().decode('utf8').strip(\"\\n\"))\n",
        "!npx localtunnel --port 8501 & curl"
      ]
    }
  ],
  "metadata": {
    "colab": {
      "collapsed_sections": [
        "z-dqyrDr9CHg",
        "5YOYl-Os84MS",
        "B8gLY0An0Cjk",
        "Izj2N7CD77f4"
      ],
      "provenance": []
    },
    "kernelspec": {
      "display_name": "Python 3",
      "name": "python3"
    },
    "language_info": {
      "name": "python"
    }
  },
  "nbformat": 4,
  "nbformat_minor": 0
}